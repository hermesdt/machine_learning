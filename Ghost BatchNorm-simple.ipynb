{
 "cells": [
  {
   "cell_type": "code",
   "execution_count": 93,
   "metadata": {},
   "outputs": [],
   "source": [
    "import torch\n",
    "from torch import nn\n",
    "from torch.nn import functional as F\n",
    "import numpy as np\n",
    "import matplotlib.pyplot as plt"
   ]
  },
  {
   "cell_type": "code",
   "execution_count": 215,
   "metadata": {},
   "outputs": [
    {
     "data": {
      "text/plain": [
       "(tensor([1.0331, 0.9544]), tensor([2.3134, 2.3027]))"
      ]
     },
     "execution_count": 215,
     "metadata": {},
     "output_type": "execute_result"
    }
   ],
   "source": [
    "torch.manual_seed(42)\n",
    "dist = torch.distributions.Uniform(-3, 5)\n",
    "data = dist.sample([4096, 2])\n",
    "data = data[:]\n",
    "data_mean, data_std = data.mean(dim=0), data.std(dim=0)\n",
    "data_mean, data_std"
   ]
  },
  {
   "cell_type": "code",
   "execution_count": 174,
   "metadata": {},
   "outputs": [],
   "source": [
    "class GhostBatchNorm(nn.Module):\n",
    "    def __init__(self, n_in, virtual_bs, momentum=0.1, eps=1e-5):\n",
    "        super().__init__()\n",
    "        self.virtual_bs = virtual_bs\n",
    "        self.eps = eps\n",
    "        self.mm = momentum\n",
    "        \n",
    "        gamma = nn.Parameter(torch.ones(n_in))\n",
    "        self.register_parameter(\"gamma\", gamma)\n",
    "        \n",
    "        beta = nn.Parameter(torch.zeros(n_in))\n",
    "        self.register_parameter(\"beta\", beta)\n",
    "        \n",
    "        self.register_buffer(\"running_mean\", torch.zeros(n_in))\n",
    "        self.register_buffer(\"running_std\", torch.ones(n_in))\n",
    "\n",
    "    \n",
    "    def forward(self, X): # X => (batch_size, num_features)\n",
    "        # on inference use running values\n",
    "        if not self.training:\n",
    "            return self.gamma * (X - self.running_mean)/self.running_std + self.beta\n",
    "        \n",
    "        # obtain ghost batches\n",
    "        num_ghost_batches = np.ceil(X.size(0)/self.virtual_bs).astype(int)\n",
    "        ghost_batches = X.view(num_ghost_batches, self.virtual_bs, X.size(-1)) # (num_gb, virtual_bs, num_features)\n",
    "        \n",
    "        # obtain metrics\n",
    "        ghost_mean = ghost_batches.mean(dim=1).unsqueeze(1) # (num_gb, 1, num_features)\n",
    "        ghost_std = ghost_batches.std(dim=1).unsqueeze(1) # (num_gb, 1, num_features)\n",
    "        \n",
    "        # normalize\n",
    "        normalized_ghost_batches = (ghost_batches - ghost_mean) / ghost_std\n",
    "        normalized_batch = normalized_ghost_batches.view(X.size()) # (batch_size, num_features)\n",
    "        \n",
    "        # update running metrics\n",
    "        self.running_mean = self._calculate_running_metric(\n",
    "            self.running_mean, ghost_mean, num_ghost_batches) # (num_features)\n",
    "        self.running_std = self._calculate_running_metric(\n",
    "            self.running_std, ghost_std, num_ghost_batches) # (num_features)\n",
    "        \n",
    "        return self.gamma * normalized_batch + self.beta\n",
    "    \n",
    "    def _calculate_running_metric(self, running_metric, ghost_metric, num_ghost_batches):\n",
    "        weighted_prev = ((1-self.mm)**num_ghost_batches) * running_metric\n",
    "        \n",
    "        exp_idxs = torch.arange(0, num_ghost_batches).flip(dims=(0,))\n",
    "        weighted_new = (\n",
    "            (self.mm * (1-self.mm)**exp_idxs)[..., None] * ghost_metric.squeeze(1)\n",
    "        ).sum(dim=0)\n",
    "        \n",
    "        return weighted_prev + weighted_new\n",
    "    "
   ]
  },
  {
   "cell_type": "code",
   "execution_count": 196,
   "metadata": {},
   "outputs": [
    {
     "data": {
      "image/png": "[encoded data removed]",
      "text/plain": [
       "<Figure size 432x288 with 1 Axes>"
      ]
     },
     "metadata": {
      "needs_background": "light"
     },
     "output_type": "display_data"
    }
   ],
   "source": [
    "vbs = [2, 2**2, 2**3, 2**4, 2**5, 2**6, 128, 128*2**1, 128*2**2, 128*2**3, 128*2**4, 128*2**5]\n",
    "vector = [65.4, 70.5, 69.8, 67.9, 66.4, 69.6, 68.7, 67.9, 67.5, 70.2, 68.8, 71.1]\n",
    "plt.plot(vbs, vector)\n",
    "plt.xscale(\"log\")"
   ]
  },
  {
   "cell_type": "code",
   "execution_count": 203,
   "metadata": {},
   "outputs": [],
   "source": [
    "n_in = 2\n",
    "vbs = 32\n",
    "eps = 1e-5\n",
    "mm = momentum = 0.1\n",
    "\n",
    "gbn = GhostBatchNorm(n_in, vbs, eps=eps, momentum=momentum)"
   ]
  },
  {
   "cell_type": "code",
   "execution_count": 204,
   "metadata": {},
   "outputs": [],
   "source": [
    "import timeit"
   ]
  },
  {
   "cell_type": "code",
   "execution_count": 216,
   "metadata": {},
   "outputs": [],
   "source": [
    "times = []\n",
    "vbs = [2, 2**2, 2**3, 2**4, 2**5, 2**6, 128, 128*2**1, 128*2**2, 128*2**3, 128*2**4, 128*2**5]\n",
    "for _vbs in vbs:\n",
    "    gbn = GhostBatchNorm(n_in, _vbs, eps=eps, momentum=momentum)\n",
    "    times.append(timeit.timeit(\"for i in range(100): gbn(data)\", number=1, globals=globals()))"
   ]
  },
  {
   "cell_type": "code",
   "execution_count": 217,
   "metadata": {},
   "outputs": [
    {
     "data": {
      "text/plain": [
       "[0.22704806900583208,\n",
       " 0.13551873099640943,\n",
       " 0.1289502510044258,\n",
       " 0.0954140750109218,\n",
       " 0.08185006698477082,\n",
       " 0.07613838498946279,\n",
       " 0.07152166799642146,\n",
       " 0.06456645202706568,\n",
       " 0.06378582399338484,\n",
       " 0.06619077999494039,\n",
       " 0.06473807999282144,\n",
       " 0.06242851202841848]"
      ]
     },
     "execution_count": 217,
     "metadata": {},
     "output_type": "execute_result"
    }
   ],
   "source": [
    "times"
   ]
  },
  {
   "cell_type": "code",
   "execution_count": 192,
   "metadata": {},
   "outputs": [],
   "source": [
    "b = nn.BatchNorm1d(2)"
   ]
  },
  {
   "cell_type": "code",
   "execution_count": 218,
   "metadata": {},
   "outputs": [
    {
     "data": {
      "text/plain": [
       "[11.756628635019297,\n",
       " 5.7125585390022025,\n",
       " 3.2123139100149274,\n",
       " 1.426821100001689,\n",
       " 0.7314507039845921,\n",
       " 0.36317164299543947,\n",
       " 0.20194202300626785,\n",
       " 0.09771323500899598,\n",
       " 0.05615514298551716,\n",
       " 0.03516146700712852,\n",
       " 0.022342740994645283,\n",
       " 0.015567405993351713]"
      ]
     },
     "execution_count": 218,
     "metadata": {},
     "output_type": "execute_result"
    }
   ],
   "source": [
    "def smart(b, data, vbs):\n",
    "    chunks = data.chunk(int(np.ceil(data.size()[0] / vbs)), 0)\n",
    "    res = [b(x_) for x_ in chunks]\n",
    "\n",
    "    return torch.cat(res, dim=0)\n",
    "\n",
    "\n",
    "smart_times = []\n",
    "vbs = [2, 2**2, 2**3, 2**4, 2**5, 2**6, 128, 128*2**1, 128*2**2, 128*2**3, 128*2**4, 128*2**5]\n",
    "for _vbs in vbs:\n",
    "    b = nn.BatchNorm1d(n_in)\n",
    "    smart_times.append(timeit.timeit(\"for i in range(100): smart(b, data, _vbs)\", number=1, globals=globals()))\n",
    "smart_times"
   ]
  },
  {
   "cell_type": "code",
   "execution_count": 224,
   "metadata": {},
   "outputs": [
    {
     "data": {
      "image/png": "[encoded data removed]",
      "text/plain": [
       "<Figure size 960x320 with 1 Axes>"
      ]
     },
     "metadata": {
      "needs_background": "light"
     },
     "output_type": "display_data"
    }
   ],
   "source": [
    "##### vbs = [2, 2**2, 2**3, 2**4, 2**5, 2**6, 128, 128*2**1, 128*2**2, 128*2**3, 128*2**4, 128*2**5]\n",
    "plt.figure(figsize=(12,4), dpi=80)\n",
    "plt.plot(vbs, times, label=\"vectorized\")\n",
    "plt.plot(vbs, times, \"C0o\", alpha=0.5)\n",
    "plt.plot(vbs, smart_times, label=\"simple\")\n",
    "plt.plot(vbs, smart_times, \"C1o\", alpha=0.5)\n",
    "#plt.xscale(\"log\")\n",
    "plt.yscale(\"log\")\n",
    "plt.ylabel(\"ms\")\n",
    "plt.xlabel(\"batch size\")\n",
    "plt.xticks(vbs)\n",
    "plt.title(\"\")\n",
    "plt.legend()\n",
    "plt.tight_layout()"
   ]
  },
  {
   "cell_type": "code",
   "execution_count": null,
   "metadata": {},
   "outputs": [],
   "source": [
    "b.running_mean"
   ]
  },
  {
   "cell_type": "code",
   "execution_count": 12,
   "metadata": {},
   "outputs": [],
   "source": [
    "b2 = nn.BatchNorm1d(2, momentum=0.1, eps=1e-5)"
   ]
  },
  {
   "cell_type": "code",
   "execution_count": 13,
   "metadata": {},
   "outputs": [
    {
     "name": "stdout",
     "output_type": "stream",
     "text": [
      "CPU times: user 17.1 ms, sys: 1.59 ms, total: 18.7 ms\n",
      "Wall time: 19.6 ms\n"
     ]
    }
   ],
   "source": [
    "%time for i in range(100): b2(data)"
   ]
  },
  {
   "cell_type": "code",
   "execution_count": 14,
   "metadata": {},
   "outputs": [
    {
     "data": {
      "text/plain": [
       "tensor([1.0330, 0.9544])"
      ]
     },
     "execution_count": 14,
     "metadata": {},
     "output_type": "execute_result"
    }
   ],
   "source": [
    "b2.running_mean"
   ]
  },
  {
   "cell_type": "code",
   "execution_count": 23,
   "metadata": {},
   "outputs": [
    {
     "data": {
      "text/plain": [
       "0"
      ]
     },
     "execution_count": 23,
     "metadata": {},
     "output_type": "execute_result"
    }
   ],
   "source": [
    "g = GBN(n_in, vbs, eps=eps, momentum=momentum, metric_dim=1)\n",
    "o = g(data)\n",
    "\n",
    "b2 = nn.BatchNorm1d(2, momentum=0.1, eps=1e-5)\n",
    "o2 = b2(data)\n",
    "0"
   ]
  }
 ],
 "metadata": {
  "kernelspec": {
   "display_name": "Python 3",
   "language": "python",
   "name": "python3"
  },
  "language_info": {
   "codemirror_mode": {
    "name": "ipython",
    "version": 3
   },
   "file_extension": ".py",
   "mimetype": "text/x-python",
   "name": "python",
   "nbconvert_exporter": "python",
   "pygments_lexer": "ipython3",
   "version": "3.6.3"
  }
 },
 "nbformat": 4,
 "nbformat_minor": 4
}
